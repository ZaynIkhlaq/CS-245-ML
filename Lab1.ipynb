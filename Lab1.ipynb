{
  "nbformat": 4,
  "nbformat_minor": 0,
  "metadata": {
    "colab": {
      "provenance": [],
      "gpuType": "T4"
    },
    "kernelspec": {
      "name": "python3",
      "display_name": "Python 3"
    },
    "language_info": {
      "name": "python"
    },
    "accelerator": "GPU"
  },
  "cells": [
    {
      "cell_type": "markdown",
      "source": [
        "# Muhammad Zain Ikhlaq\n",
        "First ML Lab. <br>\n",
        "Lab Engineer: Ma'am Iram Tariq Bhatti\n"
      ],
      "metadata": {
        "id": "WkxoTiiRJ1Hy"
      }
    },
    {
      "cell_type": "code",
      "source": [
        "# Trying out print\n",
        "print(\"Hello, Machine Learning World!\")"
      ],
      "metadata": {
        "colab": {
          "base_uri": "https://localhost:8080/"
        },
        "id": "OzIdp3Y5J_A3",
        "outputId": "43991a00-0d73-4c9c-8f06-c43afdbb8e47"
      },
      "execution_count": null,
      "outputs": [
        {
          "output_type": "stream",
          "name": "stdout",
          "text": [
            "Hello, Machine Learning World!\n"
          ]
        }
      ]
    },
    {
      "cell_type": "code",
      "source": [
        "# Mounting drive\n",
        "from google.colab import drive\n",
        "drive.mount('/content/drive')"
      ],
      "metadata": {
        "colab": {
          "base_uri": "https://localhost:8080/"
        },
        "id": "fanpJ_wUKVlC",
        "outputId": "76201fc6-8c5d-4635-8dd3-d2a13ff201d2"
      },
      "execution_count": null,
      "outputs": [
        {
          "output_type": "stream",
          "name": "stdout",
          "text": [
            "Mounted at /content/drive\n"
          ]
        }
      ]
    },
    {
      "cell_type": "code",
      "source": [
        "# Reading sample data from environment\n",
        "import pandas as pd\n",
        "\n",
        "data = pd.read_csv('/content/sample_data/mnist_test.csv')"
      ],
      "metadata": {
        "id": "P4nkyxDpL0k4"
      },
      "execution_count": null,
      "outputs": []
    },
    {
      "cell_type": "code",
      "source": [
        "# Saving changes to environment\n",
        "data.to_csv('/content/sample_data/output_data.csv')"
      ],
      "metadata": {
        "id": "T4YoB8tNMNnI"
      },
      "execution_count": null,
      "outputs": []
    },
    {
      "cell_type": "code",
      "source": [
        "# BMI - testing numpy\n",
        "\n",
        "import numpy as np\n",
        "heights = np.array([1.75, 1.80, 1.65]) # in meters\n",
        "weights = np.array([65, 78, 50]) # in kg\n",
        "\n",
        "bmi = weights / (heights ** 2)\n",
        "print(bmi)"
      ],
      "metadata": {
        "colab": {
          "base_uri": "https://localhost:8080/"
        },
        "id": "dv2FsBzsMllZ",
        "outputId": "a66a828f-ab3f-4696-cff1-dbad69fb229d"
      },
      "execution_count": null,
      "outputs": [
        {
          "output_type": "stream",
          "name": "stdout",
          "text": [
            "[21.2244898  24.07407407 18.36547291]\n"
          ]
        }
      ]
    },
    {
      "cell_type": "code",
      "source": [
        "# Data Preprocessing\n",
        "data = np.array([4.0, 5.0, 6.0, 8.0, 10.0])\n",
        "normalized_data = (data - np.mean(data)) / np.std(data)\n",
        "print(normalized_data)"
      ],
      "metadata": {
        "colab": {
          "base_uri": "https://localhost:8080/"
        },
        "id": "sl6dv5ohMsBv",
        "outputId": "68c3927e-03c9-4fa5-f0ae-9af0d16d8470"
      },
      "execution_count": null,
      "outputs": [
        {
          "output_type": "stream",
          "name": "stdout",
          "text": [
            "[-1.2070197  -0.74278135 -0.27854301  0.64993368  1.57841037]\n"
          ]
        }
      ]
    },
    {
      "cell_type": "code",
      "source": [
        "# Dot Product\n",
        "A = np.array([[1, 2], [3, 4]])\n",
        "B = np.array([[5, 6], [7, 8]])\n",
        "result = np.dot(A, B)\n",
        "print(result)"
      ],
      "metadata": {
        "colab": {
          "base_uri": "https://localhost:8080/"
        },
        "id": "inGGIZMLSLrn",
        "outputId": "ba08e655-9247-48d9-f8d2-4dc5a6759b2a"
      },
      "execution_count": null,
      "outputs": [
        {
          "output_type": "stream",
          "name": "stdout",
          "text": [
            "[[19 22]\n",
            " [43 50]]\n"
          ]
        }
      ]
    },
    {
      "cell_type": "code",
      "source": [
        "# Linear Regression\n",
        "X = np.array([[1, 2], [3, 4], [5, 6]])\n",
        "beta = np.array([0.5, 1.5])\n",
        "b = 0.1\n",
        "y_pred = np.dot(X, beta) + b\n",
        "print(y_pred)"
      ],
      "metadata": {
        "colab": {
          "base_uri": "https://localhost:8080/"
        },
        "id": "uqgn3OBdMspU",
        "outputId": "5d903946-38c5-4af9-a98b-38d39342fed7"
      },
      "execution_count": null,
      "outputs": [
        {
          "output_type": "stream",
          "name": "stdout",
          "text": [
            "[ 3.6  7.6 11.6]\n"
          ]
        }
      ]
    },
    {
      "cell_type": "markdown",
      "source": [
        "#Arrays vs List"
      ],
      "metadata": {
        "id": "HNXi0fFBTlYw"
      }
    },
    {
      "cell_type": "code",
      "source": [
        "\n",
        "list_a = [1, 2, 3]\n",
        "list_b = [4, 5, 6]\n",
        "result = [a + b for a, b in zip(list_a, list_b)]\n",
        "print(result) # Output: [5, 7, 9]"
      ],
      "metadata": {
        "colab": {
          "base_uri": "https://localhost:8080/"
        },
        "id": "bwZpucsWNnH2",
        "outputId": "4b53ceee-19ef-4640-9e2a-c141a21aa9fe"
      },
      "execution_count": null,
      "outputs": [
        {
          "output_type": "stream",
          "name": "stdout",
          "text": [
            "[5, 7, 9]\n"
          ]
        }
      ]
    },
    {
      "cell_type": "code",
      "source": [
        "# Using numpy\n",
        "import numpy as np\n",
        "array_a = np.array([1, 2, 3])\n",
        "array_b = np.array([4, 5, 6])\n",
        "result = array_a + array_b\n",
        "print(result) # Output: [5, 7, 9]"
      ],
      "metadata": {
        "colab": {
          "base_uri": "https://localhost:8080/"
        },
        "id": "wVsJDSOcNp-C",
        "outputId": "b66f8f73-c4b3-4e86-8251-2ce443ec02da"
      },
      "execution_count": null,
      "outputs": [
        {
          "output_type": "stream",
          "name": "stdout",
          "text": [
            "[5 7 9]\n"
          ]
        }
      ]
    },
    {
      "cell_type": "code",
      "source": [
        "# Array Addition and Multiplication\n",
        "a = np.array([1, 2, 3])\n",
        "b = np.array([4, 5, 6])\n",
        "print(a + b) # Output: [5, 7, 9]\n",
        "print(a * b) # Output: [4, 10, 18]"
      ],
      "metadata": {
        "colab": {
          "base_uri": "https://localhost:8080/"
        },
        "id": "g30g7MMWNsuB",
        "outputId": "348ef76a-0f12-4a6f-ba59-47cf4901efcf"
      },
      "execution_count": null,
      "outputs": [
        {
          "output_type": "stream",
          "name": "stdout",
          "text": [
            "[5 7 9]\n",
            "[ 4 10 18]\n"
          ]
        }
      ]
    },
    {
      "cell_type": "code",
      "source": [
        "# Broadcasting\n",
        "a = np.array([[1, 2, 3], [4, 5, 6]])\n",
        "b = np.array([1, 2, 3])\n",
        "print(a + b) # Output: [[2, 4, 6], [5, 7, 9]]"
      ],
      "metadata": {
        "colab": {
          "base_uri": "https://localhost:8080/"
        },
        "id": "5OjvnmYRNw8N",
        "outputId": "f9fa9024-d5e2-41e5-c691-0ec6e69af74d"
      },
      "execution_count": null,
      "outputs": [
        {
          "output_type": "stream",
          "name": "stdout",
          "text": [
            "[[2 4 6]\n",
            " [5 7 9]]\n"
          ]
        }
      ]
    },
    {
      "cell_type": "code",
      "source": [
        "# Reshaping Arrays\n",
        "a = np.array([1, 2, 3, 4, 5, 6])\n",
        "a_reshaped = a.reshape(2, 3) # 2 rows, 3 columns\n",
        "print(a_reshaped)"
      ],
      "metadata": {
        "colab": {
          "base_uri": "https://localhost:8080/"
        },
        "id": "vut41J7dN0HH",
        "outputId": "cc57dac1-7e5e-4f26-be4c-e1ceb84c8114"
      },
      "execution_count": null,
      "outputs": [
        {
          "output_type": "stream",
          "name": "stdout",
          "text": [
            "[[1 2 3]\n",
            " [4 5 6]]\n"
          ]
        }
      ]
    },
    {
      "cell_type": "code",
      "source": [
        "# Flattening\n",
        "a_flat = a_reshaped.flatten()\n",
        "print(a_flat) # Output: [1, 2, 3, 4, 5, 6]"
      ],
      "metadata": {
        "colab": {
          "base_uri": "https://localhost:8080/"
        },
        "id": "FEoLj7EIN88s",
        "outputId": "28318d69-0581-4539-9ebd-68d1caf36f6e"
      },
      "execution_count": null,
      "outputs": [
        {
          "output_type": "stream",
          "name": "stdout",
          "text": [
            "[1 2 3 4 5 6]\n"
          ]
        }
      ]
    },
    {
      "cell_type": "code",
      "source": [
        "# Creating a 1D Array from a List\n",
        "import numpy as np\n",
        "array_1d = np.array([10, 20, 30, 40])\n",
        "print(array_1d)"
      ],
      "metadata": {
        "colab": {
          "base_uri": "https://localhost:8080/"
        },
        "id": "AnHJZtOLOAFo",
        "outputId": "fd8b3fe4-9cc0-4e63-c8a2-5dd0e71a1fb8"
      },
      "execution_count": null,
      "outputs": [
        {
          "output_type": "stream",
          "name": "stdout",
          "text": [
            "[10 20 30 40]\n"
          ]
        }
      ]
    },
    {
      "cell_type": "code",
      "source": [
        "# Creating a 2D Array (Matrix)\n",
        "array_2d = np.array([[1, 2, 3], [4, 5, 6]])\n",
        "print(array_2d)"
      ],
      "metadata": {
        "colab": {
          "base_uri": "https://localhost:8080/"
        },
        "id": "ZJx1JL81OE5q",
        "outputId": "e934f516-61ee-41ec-cb16-06d5724dc43c"
      },
      "execution_count": null,
      "outputs": [
        {
          "output_type": "stream",
          "name": "stdout",
          "text": [
            "[[1 2 3]\n",
            " [4 5 6]]\n"
          ]
        }
      ]
    },
    {
      "cell_type": "code",
      "source": [
        "# Performing Operations\n",
        "array_sum = array_1d + 5 # Add 5 to every element\n",
        "print(array_sum)"
      ],
      "metadata": {
        "colab": {
          "base_uri": "https://localhost:8080/"
        },
        "id": "Hyo_qBvCOHUM",
        "outputId": "a29db5f2-298e-42a0-dca0-9cbbf4812a86"
      },
      "execution_count": null,
      "outputs": [
        {
          "output_type": "stream",
          "name": "stdout",
          "text": [
            "[15 25 35 45]\n"
          ]
        }
      ]
    },
    {
      "cell_type": "code",
      "source": [
        "# Generating a Random Matrix\n",
        "random_matrix = np.random.random((3, 3))\n",
        "print(random_matrix)"
      ],
      "metadata": {
        "colab": {
          "base_uri": "https://localhost:8080/"
        },
        "id": "2QzjkAM7OL6y",
        "outputId": "b0a06c85-63ae-4f8a-f463-2a86541ffbf6"
      },
      "execution_count": null,
      "outputs": [
        {
          "output_type": "stream",
          "name": "stdout",
          "text": [
            "[[0.59570557 0.55392291 0.59462749]\n",
            " [0.67935931 0.20839889 0.27098491]\n",
            " [0.19113698 0.19087864 0.41716637]]\n"
          ]
        }
      ]
    },
    {
      "cell_type": "code",
      "source": [
        "# Matrix Operations\n",
        "random_matrix_scaled = random_matrix * 100 # Scale all values by 100\n",
        "print(random_matrix_scaled)"
      ],
      "metadata": {
        "colab": {
          "base_uri": "https://localhost:8080/"
        },
        "id": "D7FjjWUbOMyW",
        "outputId": "8f816302-d7b5-41f8-ee74-3e78934d1899"
      },
      "execution_count": null,
      "outputs": [
        {
          "output_type": "stream",
          "name": "stdout",
          "text": [
            "[[59.57055745 55.39229054 59.4627488 ]\n",
            " [67.93593083 20.83988916 27.09849072]\n",
            " [19.1136977  19.08786444 41.71663736]]\n"
          ]
        }
      ]
    },
    {
      "cell_type": "code",
      "source": [
        "# Reshaping Arrays\n",
        "reshaped_array = np.array([1, 2, 3, 4, 5, 6]).reshape(2, 3) # 2 rows, 3 columns\n",
        "print(reshaped_array)"
      ],
      "metadata": {
        "colab": {
          "base_uri": "https://localhost:8080/"
        },
        "id": "IUX0w0r6ORNE",
        "outputId": "5c0eed1d-1eb7-4278-9c93-f16be22f6b7c"
      },
      "execution_count": null,
      "outputs": [
        {
          "output_type": "stream",
          "name": "stdout",
          "text": [
            "[[1 2 3]\n",
            " [4 5 6]]\n"
          ]
        }
      ]
    },
    {
      "cell_type": "code",
      "source": [
        "# Slicing Arrays\n",
        "# Slice first two rows and first two columns\n",
        "sliced_array = reshaped_array[:2, :2]\n",
        "print(sliced_array)"
      ],
      "metadata": {
        "colab": {
          "base_uri": "https://localhost:8080/"
        },
        "id": "Q8RUGqjQOU8g",
        "outputId": "36d2f44f-bf8f-495d-8332-311784c9ab72"
      },
      "execution_count": null,
      "outputs": [
        {
          "output_type": "stream",
          "name": "stdout",
          "text": [
            "[[1 2]\n",
            " [4 5]]\n"
          ]
        }
      ]
    },
    {
      "cell_type": "markdown",
      "source": [
        "# Mini Challenge\n",
        "- Takes in an array of any size. <br>\n",
        "- Normalizes the array (i.e., scales the elements to be between 0 and 1).<br>\n",
        "- Testing on random array."
      ],
      "metadata": {
        "id": "AWwOWf43UY0W"
      }
    },
    {
      "cell_type": "code",
      "source": [
        "import numpy as np\n",
        "\n",
        "def normalize_array(arr):\n",
        "  \"\"\"Normalizes a NumPy array to values between 0 and 1.\"\"\"\n",
        "  min_val = np.min(arr)\n",
        "  max_val = np.max(arr)\n",
        "  normalized_arr = (arr - min_val) / (max_val - min_val)\n",
        "  return normalized_arr\n",
        "\n",
        "# Testing function with random array\n",
        "random_array = np.random.rand(5, 5) * 100 # Taking values 0-100\n",
        "print(\"Original array:\")\n",
        "print(random_array)\n",
        "\n",
        "normalized_random_array = normalize_array(random_array)\n",
        "print(\"\\nNormalized array:\")\n",
        "print(normalized_random_array)"
      ],
      "metadata": {
        "colab": {
          "base_uri": "https://localhost:8080/"
        },
        "id": "ab4_ckYROYqX",
        "outputId": "d34068d5-50e6-4d3e-a7a6-bed79118758e"
      },
      "execution_count": null,
      "outputs": [
        {
          "output_type": "stream",
          "name": "stdout",
          "text": [
            "Original array:\n",
            "[[20.3744391  30.57401474 99.43082498 57.29277271 18.21393673]\n",
            " [93.49723889 48.24384929 78.55343093 57.28383856 36.42677035]\n",
            " [45.12164567 93.59242741 15.19001895 68.11335725 32.92073379]\n",
            " [76.53547723 70.50517219  0.78982596 63.73452076 74.36091894]\n",
            " [69.80593004 67.37644807 43.958213   66.96835775 51.51523252]]\n",
            "\n",
            "Normalized array:\n",
            "[[0.19854435 0.30194533 1.         0.57281402 0.17664167]\n",
            " [0.93984665 0.48107809 0.78834973 0.57272344 0.36127923]\n",
            " [0.4494259  0.94081165 0.14598588 0.68251064 0.32573583]\n",
            " [0.76789217 0.70675831 0.         0.63811899 0.745847  ]\n",
            " [0.69966956 0.67504002 0.43763128 0.67090289 0.51424263]]\n"
          ]
        }
      ]
    }
  ]
}